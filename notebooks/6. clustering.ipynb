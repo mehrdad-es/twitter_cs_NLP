{
 "cells": [
  {
   "cell_type": "code",
   "execution_count": 1,
   "metadata": {},
   "outputs": [],
   "source": [
    "%matplotlib inline\n",
    "import numpy as np\n",
    "import matplotlib.pyplot as plt\n",
    "from scipy.stats import ortho_group # Used for random rotation of covariance matrix\n",
    "from sklearn.decomposition import PCA\n",
    "from sklearn.manifold import MDS\n",
    "from sklearn.manifold import TSNE"
   ]
  },
  {
   "cell_type": "code",
   "execution_count": null,
   "metadata": {},
   "outputs": [],
   "source": [
    "pca = PCA() # Initialize with n_components parameter to only find the top eigenvectors\n",
    "z = pca.fit_transform(X)"
   ]
  },
  {
   "cell_type": "code",
   "execution_count": null,
   "metadata": {},
   "outputs": [],
   "source": [
    "plt.plot(np.arange(1,51),pca.explained_variance_ratio_[0:50])\n",
    "plt.title(\"% Explained variance by component\",size=18)\n",
    "plt.xlabel(\"Component #\",size=12)\n",
    "plt.ylabel(\"% Variance Explained\",size=12)\n",
    "plt.show()"
   ]
  },
  {
   "cell_type": "code",
   "execution_count": null,
   "metadata": {},
   "outputs": [],
   "source": [
    "plt.plot(np.arange(2,51),pca.explained_variance_ratio_[1:50])\n",
    "plt.title(\"% Explained variance by components 2-100\",size=18)\n",
    "plt.xlabel(\"Component #\",size=14)\n",
    "plt.ylabel(\"% Variance Explained\",size=14)\n",
    "plt.show()"
   ]
  },
  {
   "cell_type": "code",
   "execution_count": null,
   "metadata": {},
   "outputs": [],
   "source": [
    "plt.plot(np.arange(0,50),np.cumsum(pca.explained_variance_ratio_))\n",
    "plt.title(\"Cumulative Variance Explained\",size=18)\n",
    "plt.xlabel(\"Number of Components\",size=14)\n",
    "plt.ylabel(\"% Variance Explained\",size=14)\n",
    "plt.show()"
   ]
  },
  {
   "cell_type": "code",
   "execution_count": null,
   "metadata": {},
   "outputs": [],
   "source": [
    "np.where(np.cumsum(pca.explained_variance_ratio_) >=.85)[0][0]"
   ]
  },
  {
   "cell_type": "code",
   "execution_count": null,
   "metadata": {},
   "outputs": [],
   "source": [
    "# MDS can be slow when n is large\n",
    "mds = MDS(n_components=2,verbose=1,eps=1e-5)\n",
    "mds.fit(X)\n",
    "plt.scatter(mds.embedding_[:,0],mds.embedding_[:,1],c=y)\n",
    "plt.title(\"MDS Plot\",size=18)\n",
    "plt.axis(\"equal\")\n",
    "plt.show()"
   ]
  },
  {
   "cell_type": "code",
   "execution_count": null,
   "metadata": {},
   "outputs": [],
   "source": [
    "means = np.array([np.mean(X[np.where(y == i)],axis=0) for i in range(4)])\n",
    "mds_means = MDS(2,verbose=1,eps=1e-8,n_init=10)\n",
    "mds_means.fit(means)\n",
    "plt.scatter(mds_means.embedding_[:,0],mds_means.embedding_[:,1],c=[0,1,2,3],s=200)\n",
    "plt.title(\"MDS on Class Means\",size=18)\n",
    "plt.axis(\"equal\")\n",
    "plt.show()"
   ]
  },
  {
   "cell_type": "code",
   "execution_count": null,
   "metadata": {},
   "outputs": [],
   "source": [
    "tsne = TSNE(n_components=2,verbose=1,perplexity=40)\n",
    "z_tsne = tsne.fit_transform(X)\n",
    "plt.scatter(z_tsne[:,0],z_tsne[:,1],c=y)\n",
    "plt.title(\"TSNE, perplexity 40\",size=18)\n",
    "plt.axis(\"equal\")\n",
    "plt.show()"
   ]
  },
  {
   "cell_type": "code",
   "execution_count": null,
   "metadata": {},
   "outputs": [],
   "source": [
    "tsne = TSNE(n_components=2,verbose=1,perplexity=40)\n",
    "z_tsne = tsne.fit_transform(z[:,0:10])\n",
    "plt.scatter(z_tsne[:,0],z_tsne[:,1],c=y)\n",
    "plt.title(\"TSNE on first 10 PCs, perplexity 40\",size=18)\n",
    "plt.axis(\"equal\")\n",
    "plt.show()"
   ]
  },
  {
   "cell_type": "code",
   "execution_count": null,
   "metadata": {},
   "outputs": [],
   "source": [
    "tsne = TSNE(n_components=2,verbose=1,perplexity=5)\n",
    "z_tsne = tsne.fit_transform(z[:,0:10])\n",
    "plt.scatter(z_tsne[:,0],z_tsne[:,1],c=y)\n",
    "plt.title(\"TSNE on first 10 PCs, perplexity 5\",size=18)\n",
    "plt.axis(\"equal\")\n",
    "plt.show()"
   ]
  }
 ],
 "metadata": {
  "kernelspec": {
   "display_name": "venv",
   "language": "python",
   "name": "python3"
  },
  "language_info": {
   "codemirror_mode": {
    "name": "ipython",
    "version": 3
   },
   "file_extension": ".py",
   "mimetype": "text/x-python",
   "name": "python",
   "nbconvert_exporter": "python",
   "pygments_lexer": "ipython3",
   "version": "3.11.2"
  },
  "orig_nbformat": 4
 },
 "nbformat": 4,
 "nbformat_minor": 2
}
