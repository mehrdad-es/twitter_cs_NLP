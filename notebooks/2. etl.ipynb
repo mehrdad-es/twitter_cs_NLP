{
 "cells": [
  {
   "cell_type": "code",
   "execution_count": 2,
   "metadata": {},
   "outputs": [],
   "source": [
    "import pandas as pd\n",
    "import datetime as dt\n",
    "import calendar\n",
    "import string\n",
    "import contractions\n",
    "import unicodedata\n",
    "import sklearn as sk\n",
    "import sys"
   ]
  },
  {
   "cell_type": "code",
   "execution_count": 4,
   "metadata": {},
   "outputs": [],
   "source": [
    "sys.path.insert(1,'../src/')\n",
    "import general_tools as gt\n",
    "import etl"
   ]
  },
  {
   "cell_type": "code",
   "execution_count": null,
   "metadata": {},
   "outputs": [],
   "source": [
    "config = pd.read_csv('../bucket/config/config.csv',index_col=0)"
   ]
  },
  {
   "cell_type": "markdown",
   "metadata": {},
   "source": [
    "* The commented code could be used in future iterations for additional features"
   ]
  },
  {
   "cell_type": "code",
   "execution_count": null,
   "metadata": {},
   "outputs": [],
   "source": [
    "punct_to_remove=string.punctuation\n",
    "raw_data = pd.read_csv(config.loc['iphone6_tweets_repository'][0])\n",
    "# print(raw_data.loc[1],'\\n\\n',dt.datetime.strptime(raw_data.loc[1].date,'%b %d, %Y').weekday())\n",
    "# weekend_vs_weekend=[]\n",
    "raw_data=raw_data.sort_values(by='date',ascending=False).reset_index(drop=True)\n",
    "has_url=[] # technically could be part of feature engineering but because text cleanup reshapes url it is done here\n",
    "txt=[]\n",
    "\n",
    "#to sort by date, raw_date is three-letter-month day, year format string rather than datetime\n",
    "raw_data['date']=pd.to_datetime(raw_data['date'])\n",
    "raw_data=raw_data.sort_values(by='date',ascending=True).reset_index(drop=True)\n",
    "raw_data['date']=raw_data['date'].apply(lambda _: dt.datetime.strftime(_,'%b %d, %Y'))\n",
    "\n",
    "# cleaning text for NLP and checking if tweet has url\n",
    "for i in range(raw_data.shape[0]):\n",
    "    # weekend_vs_weekend.append('w_day' if dt.datetime.strptime(raw_data.loc[i].date,'%b %d, %Y').weekday()<5 else 'w_end')\n",
    "    has_url.append(int('http://' in raw_data.loc[i].text or 'https://' in raw_data.loc[i].text))# checks if tweets has a link\n",
    "    txt.append(unicodedata.normalize('NFKD',contractions.fix(raw_data.loc[i].text.replace('\\n',' ').lower().\\\n",
    "            translate(str.maketrans('','',punct_to_remove)))).encode('ascii','ignore').decode('utf-8','ignore'))# text cleanup \n",
    "etl_data=raw_data.copy()\n",
    "etl_data.drop(columns=['date','text'],inplace=True) #current iteration of the model doesn't use date in feature embedding; in future iterations it should because it enhances the count_perID feature\n",
    "etl_data['text'] = txt\n",
    "etl_data['has_url']=has_url\n",
    "# raw_data['Weekday_vs_Weekend']=weekend_vs_weekend\n",
    "\n",
    "count_values=etl_data['id'].value_counts(sort=False)\n",
    "etl_data['tweet_count_perID_fromStart'] = [0]*etl_data.shape[0]\n",
    "for i in range(etl_data.shape[0]-1,-1,-1):\n",
    "    etl_data.loc[i,'tweet_count_perID_fromStart']= count_values[etl_data.loc[i,'id']]\n",
    "    count_values[etl_data.loc[i,'id']]-=1\n"
   ]
  },
  {
   "cell_type": "code",
   "execution_count": null,
   "metadata": {},
   "outputs": [],
   "source": [
    "# etl_d=etl.perform_etl()\n",
    "# etl_d.head(10)"
   ]
  },
  {
   "cell_type": "code",
   "execution_count": null,
   "metadata": {},
   "outputs": [],
   "source": [
    "# full_dataset=etl.feature_addition(etl_d)\n",
    "# full_dataset.head(10)"
   ]
  },
  {
   "cell_type": "code",
   "execution_count": null,
   "metadata": {},
   "outputs": [],
   "source": [
    "# etl.save_post_etl_and_featureEng(full_dataset)"
   ]
  }
 ],
 "metadata": {
  "kernelspec": {
   "display_name": "venv",
   "language": "python",
   "name": "python3"
  },
  "language_info": {
   "codemirror_mode": {
    "name": "ipython",
    "version": 3
   },
   "file_extension": ".py",
   "mimetype": "text/x-python",
   "name": "python",
   "nbconvert_exporter": "python",
   "pygments_lexer": "ipython3",
   "version": "3.9.2"
  },
  "orig_nbformat": 4
 },
 "nbformat": 4,
 "nbformat_minor": 2
}
