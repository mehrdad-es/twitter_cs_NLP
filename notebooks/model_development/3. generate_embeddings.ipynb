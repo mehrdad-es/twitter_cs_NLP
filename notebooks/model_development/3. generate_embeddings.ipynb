{
 "cells": [
  {
   "cell_type": "code",
   "execution_count": 1,
   "metadata": {},
   "outputs": [],
   "source": [
    "import openai\n",
    "import os\n",
    "import pandas as pd\n",
    "import time\n",
    "import sys\n",
    "import scipy\n",
    "import string\n",
    "import contractions\n",
    "import unicodedata\n",
    "sys.path.insert(1,'../../src/')\n",
    "import utils.general_tools as gt\n",
    "import utils.setConfig as sc\n",
    "config = pd.read_csv(f'../../bucket/config/{sc.select_data_folder()}',index_col=0)\n",
    "import model_development.generate_embeddings as generate_embeddings"
   ]
  },
  {
   "cell_type": "code",
   "execution_count": 2,
   "metadata": {},
   "outputs": [],
   "source": [
    "dataset_path=config.loc['data_postETL_and_featureEng'][0]\n",
    "embeddings_without_ChatGPT_path=config.loc['embeddings_dataset_without_ChatGPT'][0]\n",
    "ChatGPT_opinion_path=config.loc['ChatGPT_opinion'][0]\n",
    "embeddings_with_ChatGPT_path=config.loc['embeddings_with_ChatGPT'][0]\n",
    "embeddings_only_ChatGPT_path=config.loc['embeddings_only_ChatGPT_path'][0]\n",
    "data_ETL_and_chatGPT_path=config.loc['data_ETL_and_chatGPT'][0]"
   ]
  },
  {
   "cell_type": "code",
   "execution_count": 3,
   "metadata": {},
   "outputs": [],
   "source": [
    "dataset = pd.read_csv(dataset_path)\n",
    "os.environ['bearer_token']=input('what is your account\\'s bearer_token?')\n",
    "bearer_token=os.environ.get('bearer_token')\n",
    "openai.api_key= bearer_token"
   ]
  },
  {
   "attachments": {},
   "cell_type": "markdown",
   "metadata": {},
   "source": [
    "##### Generate Embedding v0 (without ChatGPT Opinion)"
   ]
  },
  {
   "cell_type": "code",
   "execution_count": null,
   "metadata": {},
   "outputs": [],
   "source": [
    "# this code may not be updated, please use the python functions from src folder.\n",
    "start_from_scratch=False#to be function variable\n",
    "embeddings=pd.read_csv(embeddings_without_ChatGPT_path)\n",
    "if start_from_scratch:\n",
    "    embeddings=gt.make_dataframe_empty(embeddings)\n",
    "for i in range(embeddings.shape[0],dataset.shape[0]):\n",
    "    start = time.time()\n",
    "    term = str(list(dataset.loc[i])) # giving the list with its brackets in string format found to make the most sense\n",
    "    print(i, term)\n",
    "    txt2vec=openai.Embedding.create(\n",
    "        model=\"text-embedding-ada-002\",\n",
    "        input=term\n",
    "    )\n",
    "    emb= txt2vec['data'][0]['embedding']\n",
    "    embeddings.loc[i]=emb\n",
    "    end = time.time()\n",
    "    time.sleep(0.5)\n",
    "    if i%50==0:# essentially a checkpoint where it saves embeddings every 50 iterations \n",
    "        pd.DataFrame(embeddings).to_csv(\\\n",
    "            embeddings_without_ChatGPT_path)\n",
    "pd.DataFrame(embeddings).to_csv(\\\n",
    "            embeddings_without_ChatGPT_path)"
   ]
  },
  {
   "cell_type": "code",
   "execution_count": 5,
   "metadata": {},
   "outputs": [
    {
     "name": "stderr",
     "output_type": "stream",
     "text": [
      "100%|██████████| 1015/1015 [11:51<00:00,  1.43it/s]\n"
     ]
    }
   ],
   "source": [
    "generate_embeddings.gen_emb(bearer_token,embeddings_without_ChatGPT_path)"
   ]
  },
  {
   "cell_type": "markdown",
   "metadata": {},
   "source": [
    "##### Get ChatGPT's opinion on the tweets"
   ]
  },
  {
   "cell_type": "code",
   "execution_count": null,
   "metadata": {},
   "outputs": [],
   "source": [
    "generate_embeddings.get_chatGPT_opinion(bearer_token,exact_search_term='iPhone 15')"
   ]
  },
  {
   "cell_type": "markdown",
   "metadata": {},
   "source": [
    "##### Generate Embedding v1 (with ChatGPT Opinion)"
   ]
  },
  {
   "cell_type": "code",
   "execution_count": null,
   "metadata": {},
   "outputs": [],
   "source": [
    "# this code may not be updated, please use the python functions from src folder.\n",
    "start_from_scratch=True#to be function variable\n",
    "chatGPT_opinions=pd.read_csv(ChatGPT_opinion_path,index_col=0)\n",
    "if start_from_scratch:\n",
    "    chatGPT_opinions=gt.make_dataframe_empty(chatGPT_opinions)\n",
    "for i in range(chatGPT_opinions.shape[0],dataset.shape[0]):\n",
    "    start = time.time()\n",
    "    tweet=dataset.loc[i].text\n",
    "    completion = openai.ChatCompletion.create(\n",
    "    model=\"gpt-3.5-turbo\",\n",
    "    messages=[\n",
    "            {\"role\": \"system\", \"content\": \"You are an unbiased smartphone product analyst\"},\n",
    "            {\"role\": \"user\", \"content\": \"Briefly describe whether product feedback is being\\\n",
    "              given about iphone 6 in the following tweet: {}\".format(tweet)}\n",
    "    ]\n",
    "    )\n",
    "    chatGPT_response=gt.make_txt_NLP_friendly(completion.choices[0].message.content)\n",
    "    chatGPT_opinions.loc[i]=[tweet,chatGPT_response]\n",
    "    print(i,[tweet,chatGPT_response])\n",
    "    end = time.time()\n",
    "    time.sleep(0.5)\n",
    "    if i%50==0:\n",
    "        pd.DataFrame(chatGPT_opinions).to_csv(\\\n",
    "            ChatGPT_opinion_path)\n",
    "pd.DataFrame(chatGPT_opinions).to_csv(\\\n",
    "        ChatGPT_opinion_path)"
   ]
  },
  {
   "cell_type": "code",
   "execution_count": 6,
   "metadata": {},
   "outputs": [],
   "source": [
    "generate_embeddings.combine_repo_with_chatGPT_opinion()"
   ]
  },
  {
   "cell_type": "code",
   "execution_count": null,
   "metadata": {},
   "outputs": [],
   "source": [
    "# this code may not be updated, please use the python functions from src folder.\n",
    "chatGPT_response_collection=pd.read_csv(ChatGPT_opinion_path,index_col=0)\n",
    "new_columns=dataset.columns.to_list()+['chatGPT_opinion']\n",
    "dataset_with_GPT_opinion=pd.concat([dataset,chatGPT_response_collection['chatGPT_opinion']],axis=1,ignore_index=True)\n",
    "dataset_with_GPT_opinion.columns=new_columns\n",
    "dataset_with_GPT_opinion.head()\n",
    "embeddings_with_ChatGPT=pd.read_csv(embeddings_with_ChatGPT_path,index_col=0)\n",
    "embeddings_with_ChatGPT=gt.make_dataframe_empty(embeddings_with_ChatGPT)\n",
    "for i in range(dataset_with_GPT_opinion.shape[0]):\n",
    "    start = time.time()\n",
    "    term = str(list(dataset_with_GPT_opinion.loc[i])) # giving the list with its brackets in string format found to make the most sense\n",
    "    # print(i, term)\n",
    "    txt2vec=openai.Embedding.create(\n",
    "        model=\"text-embedding-ada-002\",\n",
    "        input=term\n",
    "    )\n",
    "    emb= txt2vec['data'][0]['embedding']\n",
    "    embeddings_with_ChatGPT.loc[i]=emb\n",
    "    end = time.time()\n",
    "    time.sleep(0.5)\n",
    "    if i%50==0:\n",
    "        pd.DataFrame(embeddings_with_ChatGPT).to_csv(\\\n",
    "            embeddings_with_ChatGPT_path)\n",
    "pd.DataFrame(embeddings_with_ChatGPT).to_csv(\\\n",
    "            embeddings_with_ChatGPT_path)"
   ]
  },
  {
   "cell_type": "code",
   "execution_count": 8,
   "metadata": {},
   "outputs": [
    {
     "name": "stderr",
     "output_type": "stream",
     "text": [
      "100%|██████████| 200/200 [02:17<00:00,  1.45it/s]\n"
     ]
    }
   ],
   "source": [
    "generate_embeddings.gen_emb(bearer_token,embeddings_with_ChatGPT_path,\n",
    "        dataset_path=data_ETL_and_chatGPT_path)"
   ]
  },
  {
   "cell_type": "markdown",
   "metadata": {},
   "source": [
    "##### Generate Embedding v2 (only ChatGPT Opinion)"
   ]
  },
  {
   "cell_type": "code",
   "execution_count": null,
   "metadata": {},
   "outputs": [],
   "source": [
    "# this code may not be updated, please use the python functions from src folder.\n",
    "ChatGPT_opinion=pd.read_csv(ChatGPT_opinion_path,index_col=0)\n",
    "embeddings_only_ChatGPT=pd.read_csv(embeddings_only_ChatGPT_path,index_col=0)\n",
    "embeddings_only_ChatGPT=gt.make_dataframe_empty(embeddings_only_ChatGPT)\n",
    "for i in range(embeddings_with_ChatGPT.shape[0]):\n",
    "    start = time.time()\n",
    "    term = str(dataset_with_GPT_opinion.loc[i].chatGPT_opinion) # giving the list with its brackets in string format found to make the most sense\n",
    "    # print(i, term)\n",
    "    txt2vec=openai.Embedding.create(\n",
    "        model=\"text-embedding-ada-002\",\n",
    "        input=term\n",
    "    )\n",
    "    emb= txt2vec['data'][0]['embedding']\n",
    "    embeddings_only_ChatGPT.loc[i]=emb\n",
    "    end = time.time()\n",
    "    time.sleep(0.1)\n",
    "    if i%50==0:\n",
    "        pd.DataFrame(embeddings_only_ChatGPT).to_csv(\\\n",
    "            embeddings_only_ChatGPT_path)\n",
    "pd.DataFrame(embeddings_only_ChatGPT).to_csv(\\\n",
    "            embeddings_only_ChatGPT_path)"
   ]
  },
  {
   "cell_type": "code",
   "execution_count": 9,
   "metadata": {},
   "outputs": [
    {
     "name": "stderr",
     "output_type": "stream",
     "text": [
      "100%|██████████| 200/200 [02:27<00:00,  1.36it/s]\n"
     ]
    }
   ],
   "source": [
    "generate_embeddings.gen_emb(bearer_token,embeddings_only_ChatGPT_path,\n",
    "        dataset_path=ChatGPT_opinion_path)"
   ]
  }
 ],
 "metadata": {
  "kernelspec": {
   "display_name": "venv",
   "language": "python",
   "name": "python3"
  },
  "language_info": {
   "codemirror_mode": {
    "name": "ipython",
    "version": 3
   },
   "file_extension": ".py",
   "mimetype": "text/x-python",
   "name": "python",
   "nbconvert_exporter": "python",
   "pygments_lexer": "ipython3",
   "version": "3.11.2"
  },
  "orig_nbformat": 4
 },
 "nbformat": 4,
 "nbformat_minor": 2
}
