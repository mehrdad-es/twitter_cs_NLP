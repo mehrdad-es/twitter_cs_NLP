{
 "cells": [
  {
   "cell_type": "code",
   "execution_count": 1,
   "metadata": {},
   "outputs": [],
   "source": [
    "import pandas as pd\n",
    "import great_expectations as ge\n",
    "import seaborn as sns\n",
    "import sys\n",
    "from tqdm import tqdm\n",
    "sys.path.insert(1,'../../src')\n",
    "import utils.general_tools as gt\n",
    "import utils.setConfig as sc\n",
    "import data_quality_monitoring.data_quality_monitoring as data_quality_monitoring\n",
    "config = pd.read_csv(f'../../bucket/config/{sc.select_data_folder()}',index_col=0)"
   ]
  },
  {
   "cell_type": "code",
   "execution_count": 2,
   "metadata": {},
   "outputs": [],
   "source": [
    "dataset_path=config.loc['data_postETL_and_featureEng'][0]\n",
    "embeddings_without_ChatGPT_path=config.loc['embeddings_dataset_without_ChatGPT'][0]\n",
    "ChatGPT_opinion_path=config.loc['ChatGPT_opinion'][0]\n",
    "embeddings_with_ChatGPT_path=config.loc['embeddings_with_ChatGPT'][0]\n",
    "embeddings_only_ChatGPT_path=config.loc['embeddings_only_ChatGPT_path'][0]"
   ]
  },
  {
   "cell_type": "code",
   "execution_count": 3,
   "metadata": {},
   "outputs": [],
   "source": [
    "dataset= ge.read_csv(config.loc['data_postETL_and_featureEng'][0])\n",
    "dataset_embeddings=ge.read_csv(config.loc['embeddings_dataset_without_ChatGPT'][0],index_col=0)\n",
    "y_train_labled=ge.read_csv(config.loc['y_train_labled'][0])\n",
    "y_test=ge.read_csv(config.loc['y_test'][0])"
   ]
  },
  {
   "cell_type": "code",
   "execution_count": null,
   "metadata": {},
   "outputs": [],
   "source": [
    "# this code may not be updated, please use the python functions from src folder.\n",
    "y_train_labled.head()\n",
    "dataset_embeddings.head()\n",
    "dataset.expect_column_distinct_values_to_be_in_set('has_url',value_set=[0,1]).success and\\\n",
    "dataset.expect_column_min_to_be_between('tweet_count_perID_fromStart',strict_min=1).success and\\\n",
    "dataset.expect_column_values_to_be_of_type('name',type_='str').success and\\\n",
    "dataset.expect_column_values_to_be_of_type('id',type_='str').success and\\\n",
    "dataset.expect_column_values_to_be_of_type('text',type_='str').success and\\\n",
    "dataset.expect_column_values_to_be_of_type('has_url',type_='int').success and\\\n",
    "dataset.expect_column_values_to_be_of_type('tweet_count_perID_fromStart',type_='int').success"
   ]
  },
  {
   "cell_type": "code",
   "execution_count": null,
   "metadata": {},
   "outputs": [],
   "source": [
    "# this code may not be updated, please use the python functions from src folder.\n",
    "column0_type_validation=dataset_embeddings.expect_column_values_to_be_of_type('0',type_='float').success\n",
    "for i in range(1,1536):\n",
    "    matched=column0_type_validation and dataset_embeddings.expect_column_values_to_be_of_type(\\\n",
    "        f'{str(i)}',type_='float').success\n",
    "    if matched:\n",
    "        multi_column_type_validation=matched\n",
    "    else:\n",
    "        multi_column_type_validation=matched\n",
    "        break  \n",
    "dataset_embeddings.expect_table_column_count_to_equal(1536).success and\\\n",
    "multi_column_type_validation"
   ]
  },
  {
   "cell_type": "code",
   "execution_count": 4,
   "metadata": {},
   "outputs": [
    {
     "data": {
      "text/plain": [
       "True"
      ]
     },
     "execution_count": 4,
     "metadata": {},
     "output_type": "execute_result"
    }
   ],
   "source": [
    "data_quality_monitoring.check_data_postETL_and_featureEng()"
   ]
  },
  {
   "cell_type": "code",
   "execution_count": 5,
   "metadata": {},
   "outputs": [
    {
     "data": {
      "text/plain": [
       "True"
      ]
     },
     "execution_count": 5,
     "metadata": {},
     "output_type": "execute_result"
    }
   ],
   "source": [
    "data_quality_monitoring.check_chatGPT_opinion()"
   ]
  },
  {
   "cell_type": "code",
   "execution_count": 6,
   "metadata": {},
   "outputs": [
    {
     "data": {
      "text/plain": [
       "True"
      ]
     },
     "execution_count": 6,
     "metadata": {},
     "output_type": "execute_result"
    }
   ],
   "source": [
    "data_quality_monitoring.check_embeddings_dataset(embeddings_without_ChatGPT_path)"
   ]
  },
  {
   "cell_type": "code",
   "execution_count": 7,
   "metadata": {},
   "outputs": [
    {
     "data": {
      "text/plain": [
       "True"
      ]
     },
     "execution_count": 7,
     "metadata": {},
     "output_type": "execute_result"
    }
   ],
   "source": [
    "data_quality_monitoring.check_embeddings_dataset(embeddings_with_ChatGPT_path)"
   ]
  },
  {
   "cell_type": "code",
   "execution_count": 8,
   "metadata": {},
   "outputs": [
    {
     "data": {
      "text/plain": [
       "True"
      ]
     },
     "execution_count": 8,
     "metadata": {},
     "output_type": "execute_result"
    }
   ],
   "source": [
    "data_quality_monitoring.check_embeddings_dataset(embeddings_only_ChatGPT_path)"
   ]
  },
  {
   "cell_type": "code",
   "execution_count": null,
   "metadata": {},
   "outputs": [],
   "source": [
    "sns.catplot(x='label',kind='count',data=y_train_labled) # label 1 is product feedback and 0 is not."
   ]
  },
  {
   "cell_type": "code",
   "execution_count": null,
   "metadata": {},
   "outputs": [],
   "source": [
    "sns.catplot(x='label',kind='count',data=y_test)"
   ]
  }
 ],
 "metadata": {
  "kernelspec": {
   "display_name": "venv",
   "language": "python",
   "name": "python3"
  },
  "language_info": {
   "codemirror_mode": {
    "name": "ipython",
    "version": 3
   },
   "file_extension": ".py",
   "mimetype": "text/x-python",
   "name": "python",
   "nbconvert_exporter": "python",
   "pygments_lexer": "ipython3",
   "version": "3.11.2"
  },
  "orig_nbformat": 4
 },
 "nbformat": 4,
 "nbformat_minor": 2
}
