{
 "cells": [
  {
   "cell_type": "code",
   "execution_count": 1,
   "metadata": {},
   "outputs": [],
   "source": [
    "import os\n",
    "import pandas as pd\n",
    "import numpy as np\n",
    "import openai\n",
    "import matplotlib.pyplot as plt\n",
    "import seaborn as sns\n",
    "import sys\n",
    "from sklearn.utils import shuffle\n",
    "from sklearn.linear_model import LogisticRegression\n",
    "from sklearn.semi_supervised import LabelPropagation, LabelSpreading\n",
    "from sklearn.metrics import roc_auc_score\n",
    "import pomegranate as pg\n",
    "import warnings\n",
    "warnings.simplefilter('ignore') #we don't wanna see that\n",
    "np.random.seed(1)\n",
    "from tqdm import tqdm"
   ]
  },
  {
   "cell_type": "code",
   "execution_count": 2,
   "metadata": {},
   "outputs": [],
   "source": [
    "sys.path.insert(1,'../src')\n",
    "import utils.general_tools as gt\n",
    "import model_development"
   ]
  },
  {
   "cell_type": "code",
   "execution_count": null,
   "metadata": {},
   "outputs": [],
   "source": [
    "config = pd.read_csv('../bucket/config/config.csv',index_col=0)"
   ]
  },
  {
   "cell_type": "code",
   "execution_count": null,
   "metadata": {},
   "outputs": [],
   "source": [
    "dataset_path=config.loc['iphone6_data_post_etl_and_featureEng'][0]\n",
    "embeddings_without_ChatGPT_path=config.loc['iphone6_embeddings_dataset_without_ChatGPT'][0]\n",
    "ChatGPT_opinion_path=config.loc['iphone6_ChatGPT_opinion'][0]\n",
    "embeddings_with_ChatGPT_path=config.loc['iphone6_embeddings_with_ChatGPT'][0]\n",
    "embeddings_only_ChatGPT_path=config.loc['iphone6_embeddings_only_ChatGPT_path'][0]\n",
    "x_train_labled_path=config.loc['iphone6_x_train_labled'][0]\n",
    "x_train_unlabled_path=config.loc['iphone6_x_train_unlabled'][0]\n",
    "x_test_path=config.loc['iphone6_x_test'][0]\n",
    "y_train_labled_path=config.loc['iphone6_y_train_labled'][0]\n",
    "y_train_unlabled_path=config.loc['iphone6_y_train_unlabled'][0]\n",
    "y_test_path=config.loc['iphone6_y_test'][0]"
   ]
  },
  {
   "cell_type": "code",
   "execution_count": null,
   "metadata": {},
   "outputs": [],
   "source": [
    "# the_splits=model_development.create_data_split(to_save=True,split_index_tuple=(0.3,0.6))\n",
    "# x1,x2,x3=the_splits[0]\n",
    "# y1,y2,y3=the_splits[1]"
   ]
  },
  {
   "cell_type": "code",
   "execution_count": null,
   "metadata": {},
   "outputs": [],
   "source": [
    "# Don't uncomment this if you already have labeled data\n",
    "\n",
    "dataset = pd.read_csv(dataset_path)\n",
    "split_index_tuple=(.3,.6)\n",
    "dataset['label']=[-1]*dataset.shape[0]\n",
    "dataset= shuffle(dataset,random_state=1)\n",
    "label = dataset['label']\n",
    "dataset.drop(columns=['label'],inplace=True)\n",
    "n = dataset.shape[0]\n",
    "x_train_labled,x_train_unlabled,x_test=np.split(dataset,[int(split_index_tuple[0]*n), int(split_index_tuple[1]*n)])\n",
    "y_train_labled,y_train_unlabled,y_test=np.split(label,[int(split_index_tuple[0]*n), int(split_index_tuple[1]*n)])"
   ]
  },
  {
   "cell_type": "code",
   "execution_count": null,
   "metadata": {},
   "outputs": [],
   "source": [
    "# x_train_labled.to_csv('./bucket/etl-iphone6/x_train_labled.csv')\n",
    "# x_train_unlabled.to_csv('./bucket/etl-iphone6/x_train_unlabled.csv')\n",
    "# x_test.to_csv('./bucket/etl-iphone6/x_test.csv')"
   ]
  },
  {
   "cell_type": "code",
   "execution_count": null,
   "metadata": {},
   "outputs": [],
   "source": [
    "# Don't uncomment this if you already have labeled data\n",
    "\n",
    "# model_development.label_data(x_train_labled,y_train_labled,y_train_labled_path)\n",
    "# model_development.label_data(x_test,y_test,y_test_path)"
   ]
  },
  {
   "cell_type": "code",
   "execution_count": null,
   "metadata": {},
   "outputs": [],
   "source": [
    "y_train_labled= pd.read_csv(y_train_labled_path,index_col=0)\n",
    "# y_train_labled.head()\n",
    "# y_train_labled.columns=['label']# due to a mistake in indexing; you can ingore this line in your implementation\n",
    "# y_train_labled.set_index(keys=x_train_labled.index,inplace=True) # due to a mistake in indexing; you can ingore this line in your implementation"
   ]
  },
  {
   "cell_type": "code",
   "execution_count": null,
   "metadata": {},
   "outputs": [],
   "source": [
    "y_test=pd.read_csv(y_test_path,index_col=0)\n",
    "# y_test.head()\n",
    "# y_test.columns=['label']# due to a mistake in indexing; you can ingore this line in your implementation\n",
    "# y_test.set_index(keys=x_test.index,inplace=True)# due to a mistake in indexing; you can ingore this line in your implementation"
   ]
  },
  {
   "cell_type": "code",
   "execution_count": null,
   "metadata": {},
   "outputs": [],
   "source": [
    "y_train=pd.concat([y_train_labled,y_train_unlabled.to_frame()],ignore_index=False)\n",
    "x_train=pd.concat([x_train_labled,x_train_unlabled],ignore_index=False)\n",
    "y_train"
   ]
  },
  {
   "cell_type": "code",
   "execution_count": null,
   "metadata": {},
   "outputs": [],
   "source": [
    "x_embeddings=pd.read_csv(embeddings_without_ChatGPT_path,index_col=0)\n",
    "x_train_labled_embeddings,x_train_unlabled_embeddings=x_embeddings.loc[x_train_labled.index],x_embeddings.loc[x_train_unlabled.index]\n",
    "x_train_embeddings=x_embeddings.loc[x_train.index]\n",
    "x_test_embeddings=x_embeddings.loc[x_test.index]"
   ]
  },
  {
   "cell_type": "code",
   "execution_count": null,
   "metadata": {},
   "outputs": [],
   "source": [
    "index = ['Algorithm', 'ROC AUC']\n",
    "results = pd.DataFrame(columns=index)"
   ]
  },
  {
   "cell_type": "code",
   "execution_count": null,
   "metadata": {},
   "outputs": [],
   "source": [
    "logreg = LogisticRegression(random_state=1, class_weight='balanced')\n",
    "logreg.fit(x_train_labled_embeddings, y_train_labled)"
   ]
  },
  {
   "cell_type": "code",
   "execution_count": null,
   "metadata": {},
   "outputs": [],
   "source": [
    "results.loc[results.shape[0]]=['Logistic Regression',\\\n",
    "         roc_auc_score(y_test, logreg.predict_proba(x_test_embeddings)[:,1])]\n",
    "results"
   ]
  },
  {
   "cell_type": "code",
   "execution_count": null,
   "metadata": {},
   "outputs": [],
   "source": [
    "alphas = [0.1, 0.2, 0.3, 0.4, 0.5, 0.6, 0.7, 0.8, 0.9]  \n",
    "model_development.labels_spread_test('rbf', 40, alphas, x_train_embeddings, x_test_embeddings, y_train, y_test)"
   ]
  },
  {
   "cell_type": "code",
   "execution_count": null,
   "metadata": {},
   "outputs": [],
   "source": [
    "alphas = [0.01, 0.02, 0.03, 0.04, 0.05, 0.06, 0.07, 0.08, 0.09]  \n",
    "model_development.labels_spread_test('knn', 28, alphas, x_train_embeddings, x_test_embeddings, y_train, y_test)"
   ]
  },
  {
   "cell_type": "code",
   "execution_count": null,
   "metadata": {},
   "outputs": [],
   "source": [
    "ls_rbf = LabelSpreading(kernel='rbf', gamma=40, alpha=0.1, max_iter=1000, tol=0.001)\n",
    "ls_rbf.fit(x_train_embeddings, y_train)\n",
    "results.loc[results.shape[0]]=['Label Spreading RBF', \n",
    "        roc_auc_score(y_test, ls_rbf.predict_proba(x_test_embeddings)[:,1])]\n",
    "ls_knn = LabelSpreading(kernel='knn', n_neighbors=28, alpha=0.06, max_iter=1000, tol=0.001)\n",
    "ls_knn.fit(x_train_embeddings, y_train)\n",
    "results.loc[results.shape[0]]=['Label Spreading KNN', \n",
    "        roc_auc_score(y_test, ls_knn.predict_proba(x_test_embeddings)[:,1])]\n",
    "results"
   ]
  },
  {
   "cell_type": "code",
   "execution_count": null,
   "metadata": {},
   "outputs": [],
   "source": [
    "gammas = np.arange(2,42)\n",
    "model_development.label_prop_test('rbf', gammas, x_train_embeddings, x_test_embeddings, y_train, y_test)"
   ]
  },
  {
   "cell_type": "code",
   "execution_count": null,
   "metadata": {},
   "outputs": [],
   "source": [
    "ns = np.arange(30,60)\n",
    "model_development.label_prop_test('knn', ns, x_train_embeddings, x_test_embeddings, y_train, y_test)"
   ]
  },
  {
   "cell_type": "code",
   "execution_count": null,
   "metadata": {},
   "outputs": [],
   "source": [
    "lp_rbf = LabelPropagation(kernel='rbf', gamma=29, max_iter=100000, tol=0.0001)\n",
    "lp_rbf.fit(x_train_embeddings, y_train)\n",
    "results.loc[results.shape[0]] = ['Label Propagation RBF', \n",
    "        roc_auc_score(y_test, lp_rbf.predict_proba(x_test_embeddings)[:,1])]\n",
    "lp_knn = LabelPropagation(kernel='knn', n_neighbors=33, max_iter=100000, tol=0.0001)\n",
    "lp_knn.fit(x_train_embeddings, y_train)\n",
    "results.loc[results.shape[0]] = ['Label Propagation KNN', \n",
    "        roc_auc_score(y_test, lp_knn.predict_proba(x_test_embeddings)[:,1])]\n",
    "results"
   ]
  },
  {
   "cell_type": "markdown",
   "metadata": {},
   "source": [
    "* Results with ChatGPT Opinion"
   ]
  },
  {
   "cell_type": "code",
   "execution_count": null,
   "metadata": {},
   "outputs": [],
   "source": [
    "x_embeddings_with_ChatGPT=pd.read_csv(embeddings_with_ChatGPT_path,index_col=0)\n",
    "x_train_labled_embeddings_with_ChatGPT,x_train_unlabled_embeddings_with_ChatGPT=x_embeddings_with_ChatGPT.loc[x_train_labled.index],x_embeddings_with_ChatGPT.loc[x_train_unlabled.index]\n",
    "x_train_embeddings_with_ChatGPT=x_embeddings_with_ChatGPT.loc[x_train.index]\n",
    "x_test_embeddings_with_ChatGPT=x_embeddings_with_ChatGPT.loc[x_test.index]"
   ]
  },
  {
   "cell_type": "code",
   "execution_count": null,
   "metadata": {},
   "outputs": [],
   "source": [
    "index = ['Algorithm', 'ROC AUC']\n",
    "results_with_ChatGPT = pd.DataFrame(columns=index)"
   ]
  },
  {
   "cell_type": "code",
   "execution_count": null,
   "metadata": {},
   "outputs": [],
   "source": [
    "logreg_with_ChatGPT = LogisticRegression(random_state=1, class_weight='balanced')\n",
    "logreg_with_ChatGPT.fit(x_train_labled_embeddings_with_ChatGPT, y_train_labled)"
   ]
  },
  {
   "cell_type": "code",
   "execution_count": null,
   "metadata": {},
   "outputs": [],
   "source": [
    "results_with_ChatGPT.loc[results_with_ChatGPT.shape[0]]=['Logistic Regression',\\\n",
    "         roc_auc_score(y_test, logreg_with_ChatGPT.predict_proba(x_test_embeddings_with_ChatGPT)[:,1])]\n",
    "results_with_ChatGPT"
   ]
  },
  {
   "cell_type": "code",
   "execution_count": null,
   "metadata": {},
   "outputs": [],
   "source": [
    "alphas = [0.1, 0.2, 0.3, 0.4, 0.5, 0.6, 0.7, 0.8, 0.9]\n",
    "model_development.labels_spread_test('rbf', 48, alphas, x_train_embeddings_with_ChatGPT, x_test_embeddings_with_ChatGPT, y_train, y_test)"
   ]
  },
  {
   "cell_type": "code",
   "execution_count": null,
   "metadata": {},
   "outputs": [],
   "source": [
    "alphas = [0.01, 0.02, 0.03, 0.04, 0.05, 0.06, 0.07, 0.08, 0.09]  \n",
    "model_development.labels_spread_test('knn', 15, alphas, x_train_embeddings_with_ChatGPT, x_test_embeddings_with_ChatGPT, y_train, y_test)"
   ]
  },
  {
   "cell_type": "code",
   "execution_count": null,
   "metadata": {},
   "outputs": [],
   "source": [
    "ls_rbf_with_ChatGPT = LabelSpreading(kernel='rbf', gamma=48, alpha=0.2, max_iter=1000, tol=0.001)\n",
    "ls_rbf_with_ChatGPT.fit(x_train_embeddings_with_ChatGPT, y_train)\n",
    "results_with_ChatGPT.loc[results_with_ChatGPT.shape[0]]=['Label Spreading RBF', \n",
    "        roc_auc_score(y_test, ls_rbf_with_ChatGPT.predict_proba(x_test_embeddings_with_ChatGPT)[:,1])]\n",
    "ls_knn_with_ChatGPT = LabelSpreading(kernel='knn', n_neighbors=15, alpha=0.08, max_iter=1000, tol=0.001)\n",
    "ls_knn_with_ChatGPT.fit(x_train_embeddings_with_ChatGPT, y_train)\n",
    "results_with_ChatGPT.loc[results_with_ChatGPT.shape[0]]=['Label Spreading KNN', \n",
    "        roc_auc_score(y_test, ls_knn_with_ChatGPT.predict_proba(x_test_embeddings_with_ChatGPT)[:,1])]\n",
    "results_with_ChatGPT"
   ]
  },
  {
   "cell_type": "markdown",
   "metadata": {},
   "source": [
    "* Only ChatGPT Opinion"
   ]
  },
  {
   "cell_type": "code",
   "execution_count": null,
   "metadata": {},
   "outputs": [],
   "source": [
    "x_embeddings_only_ChatGPT=pd.read_csv(embeddings_only_ChatGPT_path,index_col=0)\n",
    "x_train_labled_embeddings_only_ChatGPT,x_train_unlabled_embeddings_only_ChatGPT=x_embeddings_only_ChatGPT.loc[x_train_labled.index],x_embeddings_only_ChatGPT.loc[x_train_unlabled.index]\n",
    "x_train_embeddings_only_ChatGPT=x_embeddings_only_ChatGPT.loc[x_train.index]\n",
    "x_test_embeddings_only_ChatGPT=x_embeddings_only_ChatGPT.loc[x_test.index]"
   ]
  },
  {
   "cell_type": "code",
   "execution_count": null,
   "metadata": {},
   "outputs": [],
   "source": [
    "index = ['Algorithm', 'ROC AUC']\n",
    "results_only_ChatGPT = pd.DataFrame(columns=index)"
   ]
  },
  {
   "cell_type": "code",
   "execution_count": null,
   "metadata": {},
   "outputs": [],
   "source": [
    "logreg_only_ChatGPT = LogisticRegression(random_state=1, class_weight='balanced')\n",
    "logreg_only_ChatGPT.fit(x_train_labled_embeddings_only_ChatGPT, y_train_labled)"
   ]
  },
  {
   "cell_type": "code",
   "execution_count": null,
   "metadata": {},
   "outputs": [],
   "source": [
    "results_only_ChatGPT.loc[results_only_ChatGPT.shape[0]]=['Logistic Regression',\\\n",
    "         roc_auc_score(y_test, logreg_only_ChatGPT.predict_proba(x_test_embeddings_only_ChatGPT)[:,1])]\n",
    "results_only_ChatGPT"
   ]
  },
  {
   "cell_type": "code",
   "execution_count": null,
   "metadata": {},
   "outputs": [],
   "source": [
    "alphas = [0.1, 0.2, 0.3, 0.4, 0.5, 0.6, 0.7, 0.8, 0.9]\n",
    "model_development.labels_spread_test('rbf', 55, alphas, x_train_embeddings_only_ChatGPT, x_test_embeddings_only_ChatGPT, y_train, y_test)"
   ]
  },
  {
   "cell_type": "code",
   "execution_count": null,
   "metadata": {},
   "outputs": [],
   "source": [
    "alphas = [0.01, 0.02, 0.03, 0.04, 0.05, 0.06, 0.07, 0.08, 0.09]  \n",
    "model_development.labels_spread_test('knn', 35, alphas, x_train_embeddings_only_ChatGPT, x_test_embeddings_only_ChatGPT, y_train, y_test)"
   ]
  },
  {
   "cell_type": "code",
   "execution_count": null,
   "metadata": {},
   "outputs": [],
   "source": [
    "ls_rbf_only_ChatGPT = LabelSpreading(kernel='rbf', gamma=55, alpha=0.1, max_iter=1000, tol=0.001)\n",
    "ls_rbf_only_ChatGPT.fit(x_train_embeddings_only_ChatGPT, y_train)\n",
    "results_only_ChatGPT.loc[results_only_ChatGPT.shape[0]]=['Label Spreading RBF', \n",
    "        roc_auc_score(y_test, ls_rbf_only_ChatGPT.predict_proba(x_test_embeddings_only_ChatGPT)[:,1])]\n",
    "ls_knn_only_ChatGPT = LabelSpreading(kernel='knn', n_neighbors=35, alpha=0.08, max_iter=1000, tol=0.001)\n",
    "ls_knn_only_ChatGPT.fit(x_train_embeddings_only_ChatGPT, y_train)\n",
    "results_only_ChatGPT.loc[results_only_ChatGPT.shape[0]]=['Label Spreading KNN', \n",
    "        roc_auc_score(y_test, ls_knn_only_ChatGPT.predict_proba(x_test_embeddings_only_ChatGPT)[:,1])]\n",
    "results_only_ChatGPT"
   ]
  },
  {
   "cell_type": "code",
   "execution_count": null,
   "metadata": {},
   "outputs": [],
   "source": [
    "from xgboost import XGBClassifier\n",
    "from sklearn.preprocessing import LabelEncoder\n",
    "le_train,le_test=LabelEncoder(),LabelEncoder()\n",
    "y_train_xgb,y_test_xgb=le_train.fit_transform(y_train_labled),le_test.fit_transform(y_test)\n",
    "xgbmodel = XGBClassifier(n_estimators = 400, learning_rate = 0.1, max_depth = 3)\n",
    "xgbmodel.fit(x_train_labled_embeddings_with_ChatGPT, y_train_xgb)\n",
    "preds = xgbmodel.predict(x_test_embeddings_with_ChatGPT)\n",
    "roc_auc_score(y_test_xgb, preds)"
   ]
  },
  {
   "cell_type": "code",
   "execution_count": null,
   "metadata": {},
   "outputs": [],
   "source": [
    "import pickle\n",
    "pickle.dump(ls_rbf_with_ChatGPT,open(\\\n",
    "    './model_registry/2023/jul/model_export_iphone6/label_spread_rbf_with_ChatGPT.sav','wb'))\n",
    "pickle.dump(ls_rbf_only_ChatGPT,open(\\\n",
    "    './model_registry/2023/jul/model_export_iphone6/label_spread_rbf_only_ChatGPT.sav','wb'))\n",
    "pickle.dump(ls_knn_with_ChatGPT,open(\\\n",
    "    './model_registry/2023/jul/model_export_iphone6/label_spread_knn_with_ChatGPT.sav','wb'))\n",
    "pickle.dump(ls_knn_only_ChatGPT,open(\\\n",
    "    './model_registry/2023/jul/model_export_iphone6/label_spread_knn_only_ChatGPT.sav','wb'))\n",
    "pickle.dump(ls_rbf,open(\\\n",
    "    './model_registry/2023/jul/model_export_iphone6/label_spread_rbf.sav','wb'))\n",
    "pickle.dump(ls_knn,open(\\\n",
    "    './model_registry/2023/jul/model_export_iphone6/label_spread_knn.sav','wb'))\n",
    "pickle.dump(lp_rbf,open(\\\n",
    "    './model_registry/2023/jul/model_export_iphone6/label_propagation_rbf.sav','wb'))\n",
    "pickle.dump(lp_knn,open(\\\n",
    "    './model_registry/2023/jul/model_export_iphone6/label_propagation_knn.sav','wb'))\n",
    "pickle.dump(logreg_with_ChatGPT,open(\\\n",
    "    './model_registry/2023/jul/model_export_iphone6/logreg_with_ChatGPT.sav','wb'))\n",
    "pickle.dump(logreg_only_ChatGPT,open(\\\n",
    "    './model_registry/2023/jul/model_export_iphone6/logreg_only_ChatGPT.sav','wb'))\n",
    "pickle.dump(logreg,open(\\\n",
    "    './model_registry/2023/jul/model_export_iphone6/logreg.sav','wb'))"
   ]
  },
  {
   "cell_type": "markdown",
   "metadata": {},
   "source": [
    "* Test Model with actual tweets."
   ]
  },
  {
   "cell_type": "code",
   "execution_count": null,
   "metadata": {},
   "outputs": [],
   "source": [
    "# os.environ['bearer_token']="
   ]
  },
  {
   "cell_type": "code",
   "execution_count": null,
   "metadata": {},
   "outputs": [],
   "source": [
    "# bearer_token=os.environ.get('bearer_token')\n",
    "# openai.api_key= bearer_token"
   ]
  },
  {
   "cell_type": "code",
   "execution_count": null,
   "metadata": {},
   "outputs": [],
   "source": [
    "# import pickle\n",
    "# loaded_model=pickle.load(open('./model_registry/2023/jul/model_export_iphone6/label_spread_rbf_with_ChatGPT.sav','rb'))\n",
    "# term='How to fix Netflix app that keeps crashing, doesn’t load properly on Apple iPhone XS'\n",
    "# txt2vec=openai.Embedding.create(\n",
    "#     model=\"text-embedding-ada-002\",\n",
    "#     input=term\n",
    "# )\n",
    "# emb= txt2vec['data'][0]['embedding']\n",
    "# result = loaded_model.predict([emb])\n",
    "# result"
   ]
  }
 ],
 "metadata": {
  "kernelspec": {
   "display_name": "venv",
   "language": "python",
   "name": "python3"
  },
  "language_info": {
   "codemirror_mode": {
    "name": "ipython",
    "version": 3
   },
   "file_extension": ".py",
   "mimetype": "text/x-python",
   "name": "python",
   "nbconvert_exporter": "python",
   "pygments_lexer": "ipython3",
   "version": "3.9.2"
  },
  "orig_nbformat": 4
 },
 "nbformat": 4,
 "nbformat_minor": 2
}
