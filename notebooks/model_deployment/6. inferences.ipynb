{
 "cells": [
  {
   "cell_type": "code",
   "execution_count": 1,
   "metadata": {},
   "outputs": [],
   "source": [
    "import pickle\n",
    "import os\n",
    "import openai\n",
    "import sys\n",
    "import warnings\n",
    "import pandas as pd\n",
    "import sys\n",
    "sys.path.insert(1,'../../src')\n",
    "import utils.general_tools as gt\n",
    "import utils.setConfig as sc\n",
    "from model_deployment import inference\n",
    "config = pd.read_csv(f'../../bucket/config/{sc.select_data_folder()}',index_col=0)\n",
    "bearer_token=input('what is your account\\'s bearer token?')"
   ]
  },
  {
   "cell_type": "code",
   "execution_count": 2,
   "metadata": {},
   "outputs": [
    {
     "name": "stderr",
     "output_type": "stream",
     "text": [
      "100%|██████████| 200/200 [01:41<00:00,  1.96it/s]\n"
     ]
    }
   ],
   "source": [
    "inference.create_inference_dataset(bearer_token,\n",
    "    model_pickle_path='../../model_registry/2023/jul/iphone6/label_spread_rbf.sav',\n",
    "    emeddings_datasePath=config.loc['embeddings_dataset_without_ChatGPT'][0],\n",
    "    inference_datasetPath=config.loc['inference_sep2023_model_without_chatGPT'][0])"
   ]
  }
 ],
 "metadata": {
  "kernelspec": {
   "display_name": "venv",
   "language": "python",
   "name": "python3"
  },
  "language_info": {
   "codemirror_mode": {
    "name": "ipython",
    "version": 3
   },
   "file_extension": ".py",
   "mimetype": "text/x-python",
   "name": "python",
   "nbconvert_exporter": "python",
   "pygments_lexer": "ipython3",
   "version": "3.11.2"
  },
  "orig_nbformat": 4
 },
 "nbformat": 4,
 "nbformat_minor": 2
}
