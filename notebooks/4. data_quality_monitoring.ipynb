{
 "cells": [
  {
   "cell_type": "code",
   "execution_count": null,
   "metadata": {},
   "outputs": [],
   "source": [
    "import pandas as pd\n",
    "import great_expectations as ge\n",
    "import seaborn as sns\n",
    "import sys"
   ]
  },
  {
   "cell_type": "code",
   "execution_count": null,
   "metadata": {},
   "outputs": [],
   "source": [
    "config = pd.read_csv('../bucket/config/config.csv',index_col=0)"
   ]
  },
  {
   "cell_type": "code",
   "execution_count": null,
   "metadata": {},
   "outputs": [],
   "source": [
    "sys.path.insert(1,'../src')\n",
    "import general_tools as gt\n",
    "import data_quality_monitoring"
   ]
  },
  {
   "cell_type": "code",
   "execution_count": null,
   "metadata": {},
   "outputs": [],
   "source": [
    "dataset_path=config.loc['iphone6_data_post_etl_and_featureEng'][0]\n",
    "embeddings_without_ChatGPT_path=config.loc['iphone6_embeddings_dataset_without_ChatGPT'][0]\n",
    "ChatGPT_opinion_path=config.loc['iphone6_ChatGPT_opinion'][0]\n",
    "embeddings_with_ChatGPT_path=config.loc['iphone6_embeddings_with_ChatGPT'][0]\n",
    "embeddings_only_ChatGPT_path=config.loc['iphone6_embeddings_only_ChatGPT_path'][0]"
   ]
  },
  {
   "cell_type": "code",
   "execution_count": null,
   "metadata": {},
   "outputs": [],
   "source": [
    "dataset= ge.read_csv(config.loc['iphone6_data_post_etl_and_featureEng'][0])\n",
    "dataset_embeddings=ge.read_csv(config.loc['iphone6_embeddings_dataset_without_ChatGPT'][0],index_col=0)\n",
    "y_train_labled=ge.read_csv(config.loc['iphone6_y_train_labled'][0])\n",
    "y_test=ge.read_csv(config.loc['iphone6_y_test'][0])"
   ]
  },
  {
   "cell_type": "code",
   "execution_count": null,
   "metadata": {},
   "outputs": [],
   "source": [
    "y_train_labled.head()"
   ]
  },
  {
   "cell_type": "code",
   "execution_count": null,
   "metadata": {},
   "outputs": [],
   "source": [
    "dataset_embeddings.head()"
   ]
  },
  {
   "cell_type": "code",
   "execution_count": null,
   "metadata": {},
   "outputs": [],
   "source": [
    "dataset.expect_column_distinct_values_to_be_in_set('has_url',value_set=[0,1]).success and\\\n",
    "dataset.expect_column_min_to_be_between('tweet_count_perID_fromStart',strict_min=1).success and\\\n",
    "dataset.expect_column_values_to_be_of_type('name',type_='str').success and\\\n",
    "dataset.expect_column_values_to_be_of_type('id',type_='str').success and\\\n",
    "dataset.expect_column_values_to_be_of_type('text',type_='str').success and\\\n",
    "dataset.expect_column_values_to_be_of_type('has_url',type_='int').success and\\\n",
    "dataset.expect_column_values_to_be_of_type('tweet_count_perID_fromStart',type_='int').success"
   ]
  },
  {
   "cell_type": "code",
   "execution_count": null,
   "metadata": {},
   "outputs": [],
   "source": [
    "column0_type_validation=dataset_embeddings.expect_column_values_to_be_of_type('0',type_='float').success\n",
    "for i in range(1,1536):\n",
    "    matched=column0_type_validation and dataset_embeddings.expect_column_values_to_be_of_type(\\\n",
    "        f'{str(i)}',type_='float').success\n",
    "    if matched:\n",
    "        multi_column_type_validation=matched\n",
    "    else:\n",
    "        multi_column_type_validation=matched\n",
    "        break  \n",
    "dataset_embeddings.expect_table_column_count_to_equal(1536).success and\\\n",
    "multi_column_type_validation"
   ]
  },
  {
   "cell_type": "code",
   "execution_count": null,
   "metadata": {},
   "outputs": [],
   "source": [
    "data_quality_monitoring.check_data_post_etl_and_featureEng()"
   ]
  },
  {
   "cell_type": "code",
   "execution_count": null,
   "metadata": {},
   "outputs": [],
   "source": [
    "data_quality_monitoring.check_chatGPT_opinion()"
   ]
  },
  {
   "cell_type": "code",
   "execution_count": null,
   "metadata": {},
   "outputs": [],
   "source": [
    "# data_quality_monitoring.check_embeddings_dataset(embeddings_without_ChatGPT_path)"
   ]
  },
  {
   "cell_type": "code",
   "execution_count": null,
   "metadata": {},
   "outputs": [],
   "source": [
    "# data_quality_monitoring.check_embeddings_dataset(embeddings_with_ChatGPT_path)"
   ]
  },
  {
   "cell_type": "code",
   "execution_count": null,
   "metadata": {},
   "outputs": [],
   "source": [
    "# data_quality_monitoring.check_embeddings_dataset(embeddings_only_ChatGPT_path)"
   ]
  },
  {
   "cell_type": "code",
   "execution_count": null,
   "metadata": {},
   "outputs": [],
   "source": [
    "sns.catplot(x='label',kind='count',data=y_train_labled) # label 1 is product feedback and 0 is not."
   ]
  },
  {
   "cell_type": "code",
   "execution_count": null,
   "metadata": {},
   "outputs": [],
   "source": [
    "sns.catplot(x='label',kind='count',data=y_test)"
   ]
  }
 ],
 "metadata": {
  "kernelspec": {
   "display_name": "venv",
   "language": "python",
   "name": "python3"
  },
  "language_info": {
   "codemirror_mode": {
    "name": "ipython",
    "version": 3
   },
   "file_extension": ".py",
   "mimetype": "text/x-python",
   "name": "python",
   "nbconvert_exporter": "python",
   "pygments_lexer": "ipython3",
   "version": "3.9.2"
  },
  "orig_nbformat": 4
 },
 "nbformat": 4,
 "nbformat_minor": 2
}
