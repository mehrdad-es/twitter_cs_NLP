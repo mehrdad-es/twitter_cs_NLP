{
 "cells": [
  {
   "cell_type": "code",
   "execution_count": 1,
   "metadata": {},
   "outputs": [],
   "source": [
    "import pandas as pd\n",
    "import great_expectations as ge\n",
    "import seaborn as sns\n",
    "import sys"
   ]
  },
  {
   "cell_type": "code",
   "execution_count": 2,
   "metadata": {},
   "outputs": [],
   "source": [
    "config = pd.read_csv('../bucket/config/config.csv',index_col=0)"
   ]
  },
  {
   "cell_type": "code",
   "execution_count": 3,
   "metadata": {},
   "outputs": [],
   "source": [
    "sys.path.insert(1,'../src')\n",
    "import general_tools as gt\n",
    "import data_quality_monitoring"
   ]
  },
  {
   "cell_type": "code",
   "execution_count": 4,
   "metadata": {},
   "outputs": [],
   "source": [
    "dataset_path=config.loc['iphone6_data_post_etl_and_featureEng'][0]\n",
    "embeddings_without_ChatGPT_path=config.loc['iphone6_embeddings_dataset_without_ChatGPT'][0]\n",
    "ChatGPT_opinion_path=config.loc['iphone6_ChatGPT_opinion'][0]\n",
    "embeddings_with_ChatGPT_path=config.loc['iphone6_embeddings_with_ChatGPT'][0]\n",
    "embeddings_only_ChatGPT_path=config.loc['iphone6_embeddings_only_ChatGPT_path'][0]"
   ]
  },
  {
   "cell_type": "code",
   "execution_count": 5,
   "metadata": {},
   "outputs": [],
   "source": [
    "dataset= ge.read_csv(config.loc['iphone6_data_post_etl_and_featureEng'][0])\n",
    "dataset_embeddings=ge.read_csv(config.loc['iphone6_embeddings_dataset_without_ChatGPT'][0],index_col=0)\n",
    "y_train_labled=ge.read_csv(config.loc['iphone6_y_train_labled'][0])\n",
    "y_test=ge.read_csv(config.loc['iphone6_y_test'][0])"
   ]
  },
  {
   "cell_type": "code",
   "execution_count": 6,
   "metadata": {},
   "outputs": [
    {
     "data": {
      "text/html": [
       "<div>\n",
       "<style scoped>\n",
       "    .dataframe tbody tr th:only-of-type {\n",
       "        vertical-align: middle;\n",
       "    }\n",
       "\n",
       "    .dataframe tbody tr th {\n",
       "        vertical-align: top;\n",
       "    }\n",
       "\n",
       "    .dataframe thead th {\n",
       "        text-align: right;\n",
       "    }\n",
       "</style>\n",
       "<table border=\"1\" class=\"dataframe\">\n",
       "  <thead>\n",
       "    <tr style=\"text-align: right;\">\n",
       "      <th></th>\n",
       "      <th>label</th>\n",
       "    </tr>\n",
       "  </thead>\n",
       "  <tbody>\n",
       "    <tr>\n",
       "      <th>0</th>\n",
       "      <td>0</td>\n",
       "    </tr>\n",
       "    <tr>\n",
       "      <th>1</th>\n",
       "      <td>1</td>\n",
       "    </tr>\n",
       "    <tr>\n",
       "      <th>2</th>\n",
       "      <td>0</td>\n",
       "    </tr>\n",
       "    <tr>\n",
       "      <th>3</th>\n",
       "      <td>0</td>\n",
       "    </tr>\n",
       "    <tr>\n",
       "      <th>4</th>\n",
       "      <td>1</td>\n",
       "    </tr>\n",
       "  </tbody>\n",
       "</table>\n",
       "</div>"
      ],
      "text/plain": [
       "   label\n",
       "0      0\n",
       "1      1\n",
       "2      0\n",
       "3      0\n",
       "4      1"
      ]
     },
     "execution_count": 6,
     "metadata": {},
     "output_type": "execute_result"
    }
   ],
   "source": [
    "y_train_labled.head()"
   ]
  },
  {
   "cell_type": "code",
   "execution_count": 7,
   "metadata": {},
   "outputs": [
    {
     "data": {
      "text/html": [
       "<div>\n",
       "<style scoped>\n",
       "    .dataframe tbody tr th:only-of-type {\n",
       "        vertical-align: middle;\n",
       "    }\n",
       "\n",
       "    .dataframe tbody tr th {\n",
       "        vertical-align: top;\n",
       "    }\n",
       "\n",
       "    .dataframe thead th {\n",
       "        text-align: right;\n",
       "    }\n",
       "</style>\n",
       "<table border=\"1\" class=\"dataframe\">\n",
       "  <thead>\n",
       "    <tr style=\"text-align: right;\">\n",
       "      <th></th>\n",
       "      <th>0</th>\n",
       "      <th>1</th>\n",
       "      <th>2</th>\n",
       "      <th>3</th>\n",
       "      <th>4</th>\n",
       "      <th>5</th>\n",
       "      <th>6</th>\n",
       "      <th>7</th>\n",
       "      <th>8</th>\n",
       "      <th>9</th>\n",
       "      <th>...</th>\n",
       "      <th>1526</th>\n",
       "      <th>1527</th>\n",
       "      <th>1528</th>\n",
       "      <th>1529</th>\n",
       "      <th>1530</th>\n",
       "      <th>1531</th>\n",
       "      <th>1532</th>\n",
       "      <th>1533</th>\n",
       "      <th>1534</th>\n",
       "      <th>1535</th>\n",
       "    </tr>\n",
       "  </thead>\n",
       "  <tbody>\n",
       "    <tr>\n",
       "      <th>0</th>\n",
       "      <td>-0.016800</td>\n",
       "      <td>-0.004732</td>\n",
       "      <td>-0.039901</td>\n",
       "      <td>-0.012692</td>\n",
       "      <td>-0.000128</td>\n",
       "      <td>0.003040</td>\n",
       "      <td>-0.042852</td>\n",
       "      <td>-0.023569</td>\n",
       "      <td>-0.005495</td>\n",
       "      <td>-0.025995</td>\n",
       "      <td>...</td>\n",
       "      <td>0.013629</td>\n",
       "      <td>-0.020447</td>\n",
       "      <td>0.025016</td>\n",
       "      <td>-0.011976</td>\n",
       "      <td>-0.036325</td>\n",
       "      <td>0.002934</td>\n",
       "      <td>0.002153</td>\n",
       "      <td>-0.005147</td>\n",
       "      <td>0.008819</td>\n",
       "      <td>-0.048670</td>\n",
       "    </tr>\n",
       "    <tr>\n",
       "      <th>1</th>\n",
       "      <td>-0.028543</td>\n",
       "      <td>-0.001629</td>\n",
       "      <td>0.013818</td>\n",
       "      <td>-0.031556</td>\n",
       "      <td>-0.004489</td>\n",
       "      <td>0.029129</td>\n",
       "      <td>-0.030915</td>\n",
       "      <td>-0.001333</td>\n",
       "      <td>-0.009793</td>\n",
       "      <td>-0.023646</td>\n",
       "      <td>...</td>\n",
       "      <td>0.014069</td>\n",
       "      <td>-0.044224</td>\n",
       "      <td>0.018568</td>\n",
       "      <td>-0.015067</td>\n",
       "      <td>-0.041685</td>\n",
       "      <td>0.028599</td>\n",
       "      <td>-0.016755</td>\n",
       "      <td>-0.008391</td>\n",
       "      <td>0.004966</td>\n",
       "      <td>-0.011119</td>\n",
       "    </tr>\n",
       "    <tr>\n",
       "      <th>2</th>\n",
       "      <td>-0.006061</td>\n",
       "      <td>0.003205</td>\n",
       "      <td>0.015924</td>\n",
       "      <td>-0.012826</td>\n",
       "      <td>-0.003200</td>\n",
       "      <td>0.009321</td>\n",
       "      <td>-0.011763</td>\n",
       "      <td>-0.018106</td>\n",
       "      <td>-0.001811</td>\n",
       "      <td>-0.021809</td>\n",
       "      <td>...</td>\n",
       "      <td>0.007293</td>\n",
       "      <td>-0.018641</td>\n",
       "      <td>0.015896</td>\n",
       "      <td>-0.019387</td>\n",
       "      <td>-0.035480</td>\n",
       "      <td>0.021260</td>\n",
       "      <td>0.005051</td>\n",
       "      <td>-0.034804</td>\n",
       "      <td>-0.000608</td>\n",
       "      <td>-0.002140</td>\n",
       "    </tr>\n",
       "    <tr>\n",
       "      <th>3</th>\n",
       "      <td>-0.025216</td>\n",
       "      <td>0.013038</td>\n",
       "      <td>-0.005592</td>\n",
       "      <td>-0.016252</td>\n",
       "      <td>-0.002357</td>\n",
       "      <td>0.011149</td>\n",
       "      <td>-0.011354</td>\n",
       "      <td>0.004761</td>\n",
       "      <td>-0.015448</td>\n",
       "      <td>-0.018507</td>\n",
       "      <td>...</td>\n",
       "      <td>-0.002668</td>\n",
       "      <td>-0.028176</td>\n",
       "      <td>0.047416</td>\n",
       "      <td>-0.018126</td>\n",
       "      <td>-0.019282</td>\n",
       "      <td>0.025315</td>\n",
       "      <td>-0.024173</td>\n",
       "      <td>-0.000293</td>\n",
       "      <td>0.013743</td>\n",
       "      <td>-0.036788</td>\n",
       "    </tr>\n",
       "    <tr>\n",
       "      <th>4</th>\n",
       "      <td>-0.003809</td>\n",
       "      <td>0.001578</td>\n",
       "      <td>0.009550</td>\n",
       "      <td>-0.038409</td>\n",
       "      <td>-0.002101</td>\n",
       "      <td>0.009905</td>\n",
       "      <td>-0.016753</td>\n",
       "      <td>-0.000690</td>\n",
       "      <td>-0.002849</td>\n",
       "      <td>-0.014934</td>\n",
       "      <td>...</td>\n",
       "      <td>0.005345</td>\n",
       "      <td>-0.014407</td>\n",
       "      <td>0.034507</td>\n",
       "      <td>-0.032873</td>\n",
       "      <td>-0.023330</td>\n",
       "      <td>-0.002677</td>\n",
       "      <td>-0.003559</td>\n",
       "      <td>-0.006712</td>\n",
       "      <td>0.008502</td>\n",
       "      <td>-0.002129</td>\n",
       "    </tr>\n",
       "  </tbody>\n",
       "</table>\n",
       "<p>5 rows × 1536 columns</p>\n",
       "</div>"
      ],
      "text/plain": [
       "          0         1         2         3         4         5         6  \\\n",
       "0 -0.016800 -0.004732 -0.039901 -0.012692 -0.000128  0.003040 -0.042852   \n",
       "1 -0.028543 -0.001629  0.013818 -0.031556 -0.004489  0.029129 -0.030915   \n",
       "2 -0.006061  0.003205  0.015924 -0.012826 -0.003200  0.009321 -0.011763   \n",
       "3 -0.025216  0.013038 -0.005592 -0.016252 -0.002357  0.011149 -0.011354   \n",
       "4 -0.003809  0.001578  0.009550 -0.038409 -0.002101  0.009905 -0.016753   \n",
       "\n",
       "          7         8         9  ...      1526      1527      1528      1529  \\\n",
       "0 -0.023569 -0.005495 -0.025995  ...  0.013629 -0.020447  0.025016 -0.011976   \n",
       "1 -0.001333 -0.009793 -0.023646  ...  0.014069 -0.044224  0.018568 -0.015067   \n",
       "2 -0.018106 -0.001811 -0.021809  ...  0.007293 -0.018641  0.015896 -0.019387   \n",
       "3  0.004761 -0.015448 -0.018507  ... -0.002668 -0.028176  0.047416 -0.018126   \n",
       "4 -0.000690 -0.002849 -0.014934  ...  0.005345 -0.014407  0.034507 -0.032873   \n",
       "\n",
       "       1530      1531      1532      1533      1534      1535  \n",
       "0 -0.036325  0.002934  0.002153 -0.005147  0.008819 -0.048670  \n",
       "1 -0.041685  0.028599 -0.016755 -0.008391  0.004966 -0.011119  \n",
       "2 -0.035480  0.021260  0.005051 -0.034804 -0.000608 -0.002140  \n",
       "3 -0.019282  0.025315 -0.024173 -0.000293  0.013743 -0.036788  \n",
       "4 -0.023330 -0.002677 -0.003559 -0.006712  0.008502 -0.002129  \n",
       "\n",
       "[5 rows x 1536 columns]"
      ]
     },
     "execution_count": 7,
     "metadata": {},
     "output_type": "execute_result"
    }
   ],
   "source": [
    "dataset_embeddings.head()"
   ]
  },
  {
   "cell_type": "code",
   "execution_count": 8,
   "metadata": {},
   "outputs": [
    {
     "data": {
      "text/plain": [
       "True"
      ]
     },
     "execution_count": 8,
     "metadata": {},
     "output_type": "execute_result"
    }
   ],
   "source": [
    "dataset.expect_column_distinct_values_to_be_in_set('has_url',value_set=[0,1]).success and\\\n",
    "dataset.expect_column_min_to_be_between('tweet_count_perID_fromStart',strict_min=1).success and\\\n",
    "dataset.expect_column_values_to_be_of_type('name',type_='str').success and\\\n",
    "dataset.expect_column_values_to_be_of_type('id',type_='str').success and\\\n",
    "dataset.expect_column_values_to_be_of_type('text',type_='str').success and\\\n",
    "dataset.expect_column_values_to_be_of_type('has_url',type_='int').success and\\\n",
    "dataset.expect_column_values_to_be_of_type('tweet_count_perID_fromStart',type_='int').success"
   ]
  },
  {
   "cell_type": "code",
   "execution_count": 9,
   "metadata": {},
   "outputs": [
    {
     "data": {
      "text/plain": [
       "True"
      ]
     },
     "execution_count": 9,
     "metadata": {},
     "output_type": "execute_result"
    }
   ],
   "source": [
    "column0_type_validation=dataset_embeddings.expect_column_values_to_be_of_type('0',type_='float').success\n",
    "for i in range(1,1536):\n",
    "    matched=column0_type_validation and dataset_embeddings.expect_column_values_to_be_of_type(\\\n",
    "        f'{str(i)}',type_='float').success\n",
    "    if matched:\n",
    "        multi_column_type_validation=matched\n",
    "    else:\n",
    "        multi_column_type_validation=matched\n",
    "        break  \n",
    "dataset_embeddings.expect_table_column_count_to_equal(1536).success and\\\n",
    "multi_column_type_validation"
   ]
  },
  {
   "cell_type": "code",
   "execution_count": 7,
   "metadata": {},
   "outputs": [
    {
     "data": {
      "text/plain": [
       "True"
      ]
     },
     "execution_count": 7,
     "metadata": {},
     "output_type": "execute_result"
    }
   ],
   "source": [
    "data_quality_monitoring.check_data_post_etl_and_featureEng()"
   ]
  },
  {
   "cell_type": "code",
   "execution_count": 8,
   "metadata": {},
   "outputs": [
    {
     "data": {
      "text/plain": [
       "True"
      ]
     },
     "execution_count": 8,
     "metadata": {},
     "output_type": "execute_result"
    }
   ],
   "source": [
    "data_quality_monitoring.check_chatGPT_opinion()"
   ]
  },
  {
   "cell_type": "code",
   "execution_count": 9,
   "metadata": {},
   "outputs": [
    {
     "data": {
      "text/plain": [
       "True"
      ]
     },
     "execution_count": 9,
     "metadata": {},
     "output_type": "execute_result"
    }
   ],
   "source": [
    "# data_quality_monitoring.check_embeddings_dataset(embeddings_without_ChatGPT_path)"
   ]
  },
  {
   "cell_type": "code",
   "execution_count": 10,
   "metadata": {},
   "outputs": [
    {
     "data": {
      "text/plain": [
       "True"
      ]
     },
     "execution_count": 10,
     "metadata": {},
     "output_type": "execute_result"
    }
   ],
   "source": [
    "# data_quality_monitoring.check_embeddings_dataset(embeddings_with_ChatGPT_path)"
   ]
  },
  {
   "cell_type": "code",
   "execution_count": 11,
   "metadata": {},
   "outputs": [
    {
     "data": {
      "text/plain": [
       "True"
      ]
     },
     "execution_count": 11,
     "metadata": {},
     "output_type": "execute_result"
    }
   ],
   "source": [
    "# data_quality_monitoring.check_embeddings_dataset(embeddings_only_ChatGPT_path)"
   ]
  },
  {
   "cell_type": "code",
   "execution_count": 10,
   "metadata": {},
   "outputs": [
    {
     "data": {
      "text/plain": [
       "<seaborn.axisgrid.FacetGrid at 0x7f5d1edb66a0>"
      ]
     },
     "execution_count": 10,
     "metadata": {},
     "output_type": "execute_result"
    },
    {
     "data": {
      "image/png": "[encoded data removed]",
      "text/plain": [
       "<Figure size 500x500 with 1 Axes>"
      ]
     },
     "metadata": {},
     "output_type": "display_data"
    }
   ],
   "source": [
    "sns.catplot(x='label',kind='count',data=y_train_labled) # label 1 is product feedback and 0 is not."
   ]
  },
  {
   "cell_type": "code",
   "execution_count": 11,
   "metadata": {},
   "outputs": [
    {
     "data": {
      "text/plain": [
       "<seaborn.axisgrid.FacetGrid at 0x7f5d1e867eb0>"
      ]
     },
     "execution_count": 11,
     "metadata": {},
     "output_type": "execute_result"
    },
    {
     "data": {
      "image/png": "[encoded data removed]",
      "text/plain": [
       "<Figure size 500x500 with 1 Axes>"
      ]
     },
     "metadata": {},
     "output_type": "display_data"
    }
   ],
   "source": [
    "sns.catplot(x='label',kind='count',data=y_test)"
   ]
  }
 ],
 "metadata": {
  "kernelspec": {
   "display_name": "venv",
   "language": "python",
   "name": "python3"
  },
  "language_info": {
   "codemirror_mode": {
    "name": "ipython",
    "version": 3
   },
   "file_extension": ".py",
   "mimetype": "text/x-python",
   "name": "python",
   "nbconvert_exporter": "python",
   "pygments_lexer": "ipython3",
   "version": "3.9.2"
  },
  "orig_nbformat": 4
 },
 "nbformat": 4,
 "nbformat_minor": 2
}
